{
  "cells": [
    {
      "cell_type": "markdown",
      "id": "c1bce4fe",
      "metadata": {
        "id": "c1bce4fe"
      },
      "source": [
        "# Code Description:\n",
        "\n",
        "In the following code, the closing price for each sector is represented by the average of the adjusted closing   prices of the constituent companies within that sector. Here's a breakdown of the steps involved in calculating this average closing price for each sector:\n",
        "\n",
        "#### Data Collection:\n",
        "- The code first fetches the list of S&P 500 companies and their respective sectors using the Wikipedia link provided.\n",
        "- It then replaces specific tickers like 'BRK.B' with 'BRK-B' and 'BF.B' with 'BF-B' to ensure compatibility with Yahoo Finance.\n",
        "\n",
        "#### Looping Through Sectors:\n",
        "- The code then loops through each unique sector in the dataset.\n",
        "\n",
        "#### Fetching Company Data:\n",
        "- For each sector, it retrieves the adjusted closing prices of the constituent companies for the last 90 days from Yahoo Finance.\n",
        "\n",
        "#### Calculating Average Closing Price:\n",
        "It calculates the average closing price for each date by taking the mean of the adjusted closing prices for all companies within that sector on that date.\n",
        "\n",
        "#### Data Formatting and Organization:\n",
        "- The code organizes this data into a DataFrame with columns for 'Date', 'Sector', and 'Avg_Close' (average closing price).\n",
        "- The DataFrame is pivoted to have sectors as columns and dates as rows.\n",
        "- Finally, the DataFrame is stacked to have the sectors' average closing prices in a single column for each date.\n",
        "\n",
        "#### Data Saving:\n",
        "- The resulting DataFrame, representing the average closing prices for each sector, is saved to an Excel file.\n",
        "- The calculated average closing prices for each sector represent an aggregate view of the performance of companies within that sector, giving an indication of the overall sector's stock price movement over the specified period (last 90 days in this case)."
      ]
    },
    {
      "cell_type": "code",
      "execution_count": null,
      "id": "2323a890",
      "metadata": {
        "id": "2323a890"
      },
      "outputs": [],
      "source": [
        "import pandas as pd\n",
        "import yfinance as yf\n",
        "from datetime import datetime, timedelta\n",
        "import pathlib\n",
        "import numpy as np\n",
        "import matplotlib.pyplot as plt\n",
        "import scipy.optimize as sci_opt\n",
        "\n",
        "from pprint import pprint\n",
        "from sklearn.preprocessing import StandardScaler\n",
        "# Set some display options for Pandas.\n",
        "%config InlineBackend.figure_format ='retina'\n",
        "pd.set_option('display.max_colwidth', None)\n",
        "pd.set_option('expand_frame_repr', False)\n",
        "pd.set_option('display.max_columns', None)\n",
        "\n"
      ]
    },
    {
      "cell_type": "code",
      "execution_count": null,
      "id": "b15308ab",
      "metadata": {
        "id": "b15308ab"
      },
      "outputs": [],
      "source": [
        "## Fetching S&P 500 Companies:\n",
        "sp500_companies = pd.read_html('https://en.wikipedia.org/wiki/List_of_S%26P_500_companies')[0]\n",
        "sp500_companies['Symbol'] = sp500_companies['Symbol'].replace({'BRK.B': 'BRK-B', 'BF.B': 'BF-B'})"
      ]
    },
    {
      "cell_type": "code",
      "execution_count": null,
      "id": "b0fc71a1",
      "metadata": {
        "id": "b0fc71a1",
        "outputId": "ed258a7a-0659-4c90-9566-bebc3a8c3789"
      },
      "outputs": [
        {
          "data": {
            "text/html": [
              "<div>\n",
              "<style scoped>\n",
              "    .dataframe tbody tr th:only-of-type {\n",
              "        vertical-align: middle;\n",
              "    }\n",
              "\n",
              "    .dataframe tbody tr th {\n",
              "        vertical-align: top;\n",
              "    }\n",
              "\n",
              "    .dataframe thead th {\n",
              "        text-align: right;\n",
              "    }\n",
              "</style>\n",
              "<table border=\"1\" class=\"dataframe\">\n",
              "  <thead>\n",
              "    <tr style=\"text-align: right;\">\n",
              "      <th></th>\n",
              "      <th>Symbol</th>\n",
              "      <th>Security</th>\n",
              "      <th>GICS Sector</th>\n",
              "      <th>GICS Sub-Industry</th>\n",
              "      <th>Headquarters Location</th>\n",
              "      <th>Date added</th>\n",
              "      <th>CIK</th>\n",
              "      <th>Founded</th>\n",
              "    </tr>\n",
              "  </thead>\n",
              "  <tbody>\n",
              "    <tr>\n",
              "      <th>0</th>\n",
              "      <td>MMM</td>\n",
              "      <td>3M</td>\n",
              "      <td>Industrials</td>\n",
              "      <td>Industrial Conglomerates</td>\n",
              "      <td>Saint Paul, Minnesota</td>\n",
              "      <td>1957-03-04</td>\n",
              "      <td>66740</td>\n",
              "      <td>1902</td>\n",
              "    </tr>\n",
              "    <tr>\n",
              "      <th>1</th>\n",
              "      <td>AOS</td>\n",
              "      <td>A. O. Smith</td>\n",
              "      <td>Industrials</td>\n",
              "      <td>Building Products</td>\n",
              "      <td>Milwaukee, Wisconsin</td>\n",
              "      <td>2017-07-26</td>\n",
              "      <td>91142</td>\n",
              "      <td>1916</td>\n",
              "    </tr>\n",
              "    <tr>\n",
              "      <th>2</th>\n",
              "      <td>ABT</td>\n",
              "      <td>Abbott</td>\n",
              "      <td>Health Care</td>\n",
              "      <td>Health Care Equipment</td>\n",
              "      <td>North Chicago, Illinois</td>\n",
              "      <td>1957-03-04</td>\n",
              "      <td>1800</td>\n",
              "      <td>1888</td>\n",
              "    </tr>\n",
              "    <tr>\n",
              "      <th>3</th>\n",
              "      <td>ABBV</td>\n",
              "      <td>AbbVie</td>\n",
              "      <td>Health Care</td>\n",
              "      <td>Pharmaceuticals</td>\n",
              "      <td>North Chicago, Illinois</td>\n",
              "      <td>2012-12-31</td>\n",
              "      <td>1551152</td>\n",
              "      <td>2013 (1888)</td>\n",
              "    </tr>\n",
              "    <tr>\n",
              "      <th>4</th>\n",
              "      <td>ACN</td>\n",
              "      <td>Accenture</td>\n",
              "      <td>Information Technology</td>\n",
              "      <td>IT Consulting &amp; Other Services</td>\n",
              "      <td>Dublin, Ireland</td>\n",
              "      <td>2011-07-06</td>\n",
              "      <td>1467373</td>\n",
              "      <td>1989</td>\n",
              "    </tr>\n",
              "    <tr>\n",
              "      <th>...</th>\n",
              "      <td>...</td>\n",
              "      <td>...</td>\n",
              "      <td>...</td>\n",
              "      <td>...</td>\n",
              "      <td>...</td>\n",
              "      <td>...</td>\n",
              "      <td>...</td>\n",
              "      <td>...</td>\n",
              "    </tr>\n",
              "    <tr>\n",
              "      <th>498</th>\n",
              "      <td>YUM</td>\n",
              "      <td>Yum! Brands</td>\n",
              "      <td>Consumer Discretionary</td>\n",
              "      <td>Restaurants</td>\n",
              "      <td>Louisville, Kentucky</td>\n",
              "      <td>1997-10-06</td>\n",
              "      <td>1041061</td>\n",
              "      <td>1997</td>\n",
              "    </tr>\n",
              "    <tr>\n",
              "      <th>499</th>\n",
              "      <td>ZBRA</td>\n",
              "      <td>Zebra Technologies</td>\n",
              "      <td>Information Technology</td>\n",
              "      <td>Electronic Equipment &amp; Instruments</td>\n",
              "      <td>Lincolnshire, Illinois</td>\n",
              "      <td>2019-12-23</td>\n",
              "      <td>877212</td>\n",
              "      <td>1969</td>\n",
              "    </tr>\n",
              "    <tr>\n",
              "      <th>500</th>\n",
              "      <td>ZBH</td>\n",
              "      <td>Zimmer Biomet</td>\n",
              "      <td>Health Care</td>\n",
              "      <td>Health Care Equipment</td>\n",
              "      <td>Warsaw, Indiana</td>\n",
              "      <td>2001-08-07</td>\n",
              "      <td>1136869</td>\n",
              "      <td>1927</td>\n",
              "    </tr>\n",
              "    <tr>\n",
              "      <th>501</th>\n",
              "      <td>ZION</td>\n",
              "      <td>Zions Bancorporation</td>\n",
              "      <td>Financials</td>\n",
              "      <td>Regional Banks</td>\n",
              "      <td>Salt Lake City, Utah</td>\n",
              "      <td>2001-06-22</td>\n",
              "      <td>109380</td>\n",
              "      <td>1873</td>\n",
              "    </tr>\n",
              "    <tr>\n",
              "      <th>502</th>\n",
              "      <td>ZTS</td>\n",
              "      <td>Zoetis</td>\n",
              "      <td>Health Care</td>\n",
              "      <td>Pharmaceuticals</td>\n",
              "      <td>Parsippany, New Jersey</td>\n",
              "      <td>2013-06-21</td>\n",
              "      <td>1555280</td>\n",
              "      <td>1952</td>\n",
              "    </tr>\n",
              "  </tbody>\n",
              "</table>\n",
              "<p>503 rows × 8 columns</p>\n",
              "</div>"
            ],
            "text/plain": [
              "    Symbol              Security             GICS Sector                   GICS Sub-Industry    Headquarters Location  Date added      CIK      Founded\n",
              "0      MMM                    3M             Industrials            Industrial Conglomerates    Saint Paul, Minnesota  1957-03-04    66740         1902\n",
              "1      AOS           A. O. Smith             Industrials                   Building Products     Milwaukee, Wisconsin  2017-07-26    91142         1916\n",
              "2      ABT                Abbott             Health Care               Health Care Equipment  North Chicago, Illinois  1957-03-04     1800         1888\n",
              "3     ABBV                AbbVie             Health Care                     Pharmaceuticals  North Chicago, Illinois  2012-12-31  1551152  2013 (1888)\n",
              "4      ACN             Accenture  Information Technology      IT Consulting & Other Services          Dublin, Ireland  2011-07-06  1467373         1989\n",
              "..     ...                   ...                     ...                                 ...                      ...         ...      ...          ...\n",
              "498    YUM           Yum! Brands  Consumer Discretionary                         Restaurants     Louisville, Kentucky  1997-10-06  1041061         1997\n",
              "499   ZBRA    Zebra Technologies  Information Technology  Electronic Equipment & Instruments   Lincolnshire, Illinois  2019-12-23   877212         1969\n",
              "500    ZBH         Zimmer Biomet             Health Care               Health Care Equipment          Warsaw, Indiana  2001-08-07  1136869         1927\n",
              "501   ZION  Zions Bancorporation              Financials                      Regional Banks     Salt Lake City, Utah  2001-06-22   109380         1873\n",
              "502    ZTS                Zoetis             Health Care                     Pharmaceuticals   Parsippany, New Jersey  2013-06-21  1555280         1952\n",
              "\n",
              "[503 rows x 8 columns]"
            ]
          },
          "execution_count": 3,
          "metadata": {},
          "output_type": "execute_result"
        }
      ],
      "source": [
        "sp500_companies"
      ]
    },
    {
      "cell_type": "code",
      "execution_count": null,
      "id": "4f0fc13e",
      "metadata": {
        "id": "4f0fc13e"
      },
      "outputs": [],
      "source": [
        "# Dropping NaN values\n",
        "sp500_companies.dropna(inplace=True)"
      ]
    },
    {
      "cell_type": "code",
      "execution_count": null,
      "id": "3b788004",
      "metadata": {
        "id": "3b788004"
      },
      "outputs": [],
      "source": [
        "## Getting Unique Sectors and Dates:\n",
        "unique_sectors = sp500_companies['GICS Sector'].unique()\n",
        "end_date = datetime.today().strftime('%Y-%m-%d')\n",
        "start_date = (datetime.today() - timedelta(days=90)).strftime('%Y-%m-%d')"
      ]
    },
    {
      "cell_type": "code",
      "execution_count": null,
      "id": "80bec452",
      "metadata": {
        "id": "80bec452",
        "outputId": "b5d1add7-e1f1-4570-f2f3-1590a3779a90"
      },
      "outputs": [
        {
          "name": "stdout",
          "output_type": "stream",
          "text": [
            "                         0\n",
            "0              Industrials\n",
            "1              Health Care\n",
            "2   Information Technology\n",
            "3         Consumer Staples\n",
            "4                Utilities\n",
            "5               Financials\n",
            "6   Consumer Discretionary\n",
            "7                Materials\n",
            "8              Real Estate\n",
            "9   Communication Services\n",
            "10                  Energy\n"
          ]
        }
      ],
      "source": [
        "unique_sectors_df = pd.DataFrame(unique_sectors)\n",
        "print(unique_sectors_df)"
      ]
    },
    {
      "cell_type": "code",
      "execution_count": null,
      "id": "48097144",
      "metadata": {
        "id": "48097144"
      },
      "outputs": [],
      "source": [
        "number_of_sectors = len(unique_sectors)"
      ]
    },
    {
      "cell_type": "code",
      "execution_count": null,
      "id": "c38080f5",
      "metadata": {
        "id": "c38080f5",
        "outputId": "43ecf1a8-c01d-4559-a8da-3e82d49ca18b"
      },
      "outputs": [
        {
          "data": {
            "text/plain": [
              "11"
            ]
          },
          "execution_count": 8,
          "metadata": {},
          "output_type": "execute_result"
        }
      ],
      "source": [
        "len(unique_sectors)"
      ]
    },
    {
      "cell_type": "code",
      "execution_count": null,
      "id": "a1e5a363",
      "metadata": {
        "id": "a1e5a363",
        "outputId": "0a4623f6-5b3b-4961-ff07-bea3eb513fb6"
      },
      "outputs": [
        {
          "name": "stdout",
          "output_type": "stream",
          "text": [
            "[*********************100%***********************]  77 of 77 completed\n",
            "[*********************100%***********************]  64 of 64 completed\n",
            "[*********************100%***********************]  64 of 64 completed\n",
            "[*********************100%***********************]  38 of 38 completed\n",
            "[*********************100%***********************]  30 of 30 completed\n",
            "[*********************100%***********************]  72 of 72 completed\n",
            "[*********************100%***********************]  53 of 53 completed\n",
            "[*********************100%***********************]  29 of 29 completed\n",
            "[*********************100%***********************]  31 of 31 completed\n",
            "[*********************100%***********************]  22 of 22 completed\n",
            "[*********************100%***********************]  23 of 23 completed\n",
            "           Date   Avg_Close                  Sector\n",
            "703  2023-11-10   85.216956                  Energy\n",
            "702  2023-11-09   84.150001                  Energy\n",
            "701  2023-11-08   84.473913                  Energy\n",
            "700  2023-11-07   85.687391                  Energy\n",
            "699  2023-11-06   87.680522                  Energy\n",
            "..          ...         ...                     ...\n",
            "608  2023-09-28  105.047998  Communication Services\n",
            "607  2023-09-27  103.783791  Communication Services\n",
            "606  2023-09-26  103.520710  Communication Services\n",
            "605  2023-09-25  104.916917  Communication Services\n",
            "604  2023-09-22  104.702080  Communication Services\n",
            "\n",
            "[100 rows x 3 columns]\n"
          ]
        }
      ],
      "source": [
        "## Fetching Historical Prices and Calculating Averages:\n",
        "## The code fetches historical closing prices for each company in each sector and calculates the average closing price for the sector.\n",
        "# Loop through each sector and download closing prices\n",
        "all_avg_prices = []\n",
        "all_dates = []\n",
        "all_sectors = []\n",
        "for sector in unique_sectors:\n",
        "    companies = sp500_companies[sp500_companies['GICS Sector'] == sector]['Symbol'].tolist()\n",
        "    prices = yf.download(companies, start=start_date, end=end_date)['Adj Close']\n",
        "    avg_prices = prices.mean(axis=1)\n",
        "    # Append the data\n",
        "    all_avg_prices.extend(avg_prices.tolist())\n",
        "    all_dates.extend([date.date() for date in prices.index])\n",
        "    all_sectors.extend([sector] * len(avg_prices))\n",
        "\n",
        "# Create a DataFrame\n",
        "sp500_sectors_avg_prices = pd.DataFrame({\n",
        "    'Date': all_dates,\n",
        "    'Avg_Close': all_avg_prices,\n",
        "    'Sector': all_sectors\n",
        "})\n",
        "\n",
        "#sp500_sectors_avg_prices = sp500_sectors_avg_prices.pivot(index='Date', columns='Sector', values='Avg_Close')\n",
        "# Reverse the order of the DataFrame by dates\n",
        "sp500_sectors_avg_prices = sp500_sectors_avg_prices[::-1]\n",
        "\n",
        "print(sp500_sectors_avg_prices.head(100))"
      ]
    },
    {
      "cell_type": "code",
      "execution_count": null,
      "id": "263bd1dc",
      "metadata": {
        "id": "263bd1dc",
        "outputId": "54d4b396-59c2-4cf7-a341-5d5ad93f824d"
      },
      "outputs": [
        {
          "name": "stdout",
          "output_type": "stream",
          "text": [
            "Sector      Communication Services  Consumer Discretionary  Consumer Staples     Energy  Financials  Health Care  Industrials  Information Technology   Materials  Real Estate  Utilities\n",
            "Date                                                                                                                                                                                     \n",
            "2023-08-14              108.676555              397.984067        108.685449  89.177779  145.606081   233.109744   188.342587              226.777679  129.620674   120.338698  65.667915\n",
            "2023-08-15              107.854397              396.814123        107.475582  87.504414  143.117001   231.864662   186.132720              224.007215  127.666770   118.991642  64.635822\n",
            "2023-08-16              106.748067              394.983365        107.157181  86.941313  143.137305   228.876733   185.061313              220.986992  126.822401   117.725655  64.954546\n",
            "2023-08-17              105.246037              387.574859        105.990454  87.820802  142.448521   226.484498   183.056559              218.933403  125.837323   117.055086  64.771553\n",
            "2023-08-18              104.854566              387.963672        106.307451  88.539833  142.303926   226.191231   183.458493              219.048505  125.863004   117.146714  65.155531\n"
          ]
        }
      ],
      "source": [
        "sp500_sectors_avg_prices = sp500_sectors_avg_prices.pivot(\n",
        "    index='Date',\n",
        "    columns='Sector',\n",
        "    values='Avg_Close'\n",
        ")\n",
        "print(sp500_sectors_avg_prices.head())"
      ]
    },
    {
      "cell_type": "code",
      "execution_count": null,
      "id": "f8f336a9",
      "metadata": {
        "id": "f8f336a9"
      },
      "outputs": [],
      "source": [
        "sp500_sectors_avg_prices.dropna(inplace=True)"
      ]
    },
    {
      "cell_type": "code",
      "execution_count": null,
      "id": "7893884a",
      "metadata": {
        "id": "7893884a",
        "outputId": "a0376345-b270-4a00-86a7-58b5d50f688a"
      },
      "outputs": [
        {
          "name": "stdout",
          "output_type": "stream",
          "text": [
            "Sector\n",
            "Communication Services    0\n",
            "Consumer Discretionary    0\n",
            "Consumer Staples          0\n",
            "Energy                    0\n",
            "Financials                0\n",
            "Health Care               0\n",
            "Industrials               0\n",
            "Information Technology    0\n",
            "Materials                 0\n",
            "Real Estate               0\n",
            "Utilities                 0\n",
            "dtype: int64\n"
          ]
        }
      ],
      "source": [
        "print(sp500_sectors_avg_prices.isnull().sum())"
      ]
    },
    {
      "cell_type": "code",
      "execution_count": null,
      "id": "a2a98cb4",
      "metadata": {
        "id": "a2a98cb4"
      },
      "outputs": [],
      "source": [
        "sp500_sectors_avg_prices.to_excel('sp500_sectors_avg_prices.xlsx', index=True)"
      ]
    },
    {
      "cell_type": "code",
      "execution_count": null,
      "id": "1a6d8299",
      "metadata": {
        "id": "1a6d8299"
      },
      "outputs": [],
      "source": [
        "# Calculate the Log of returns.\n",
        "log_return = np.log(1 +sp500_sectors_avg_prices.pct_change().iloc[::-1])\n",
        "\n",
        "# Drop rows with negative values\n",
        "log_return = log_return[(log_return > 0).all(axis=1)]\n",
        "\n",
        "\n",
        "# Generate Random Weights.\n",
        "random_weights = np.array(np.random.random(number_of_sectors))\n",
        "\n",
        "# Generate the Rebalance Weights, these should equal 1.\n",
        "rebalance_weights = random_weights / np.sum(random_weights)\n"
      ]
    },
    {
      "cell_type": "code",
      "execution_count": null,
      "id": "457ddda7",
      "metadata": {
        "id": "457ddda7",
        "outputId": "427eacd8-2630-4302-cb29-8a31295ef78d"
      },
      "outputs": [
        {
          "name": "stdout",
          "output_type": "stream",
          "text": [
            "Log Returns:\n",
            "Sector      Communication Services  Consumer Discretionary  Consumer Staples    Energy  Financials  Health Care  Industrials  Information Technology  Materials  Real Estate  Utilities\n",
            "Date                                                                                                                                                                                   \n",
            "2023-11-10                0.015518                0.019168          0.006965  0.012600    0.010749     0.009065     0.014786                0.027962   0.010486     0.010860   0.003447\n",
            "2023-11-02                0.014616                0.021447          0.015604  0.028752    0.020801     0.019184     0.024089                0.022050   0.017851     0.029691   0.018812\n",
            "2023-10-31                0.010750                0.004778          0.003464  0.006296    0.008070     0.009514     0.006770                0.013570   0.005497     0.018308   0.007343\n",
            "2023-10-16                0.014209                0.011378          0.010713  0.008657    0.012101     0.009939     0.010746                0.011736   0.010210     0.010268   0.011666\n",
            "2023-10-10                0.001707                0.004012          0.009541  0.003295    0.004019     0.008319     0.003977                0.006690   0.009990     0.003630   0.010325\n"
          ]
        }
      ],
      "source": [
        "print('Log Returns:')\n",
        "print(log_return.head())"
      ]
    },
    {
      "cell_type": "code",
      "execution_count": null,
      "id": "35a7825a",
      "metadata": {
        "id": "35a7825a",
        "outputId": "d0065926-229e-4d30-ea9b-2848109c5552"
      },
      "outputs": [
        {
          "name": "stdout",
          "output_type": "stream",
          "text": [
            "Sector\n",
            "Communication Services    0\n",
            "Consumer Discretionary    0\n",
            "Consumer Staples          0\n",
            "Energy                    0\n",
            "Financials                0\n",
            "Health Care               0\n",
            "Industrials               0\n",
            "Information Technology    0\n",
            "Materials                 0\n",
            "Real Estate               0\n",
            "Utilities                 0\n",
            "dtype: int64\n"
          ]
        }
      ],
      "source": [
        "print((sp500_sectors_avg_prices == 0).sum())"
      ]
    },
    {
      "cell_type": "markdown",
      "id": "349282aa",
      "metadata": {
        "id": "349282aa"
      },
      "source": [
        "\n"
      ]
    },
    {
      "cell_type": "code",
      "execution_count": null,
      "id": "5a8bd141",
      "metadata": {
        "id": "5a8bd141"
      },
      "outputs": [],
      "source": [
        "log_return.to_excel('log_return.xlsx', index=True)"
      ]
    },
    {
      "cell_type": "code",
      "execution_count": null,
      "id": "58822e2f",
      "metadata": {
        "id": "58822e2f",
        "outputId": "3ab560ec-b1d9-4ca8-d947-072a89f908c2"
      },
      "outputs": [
        {
          "name": "stdout",
          "output_type": "stream",
          "text": [
            "Percentage of negative log returns: 0.00%\n"
          ]
        }
      ],
      "source": [
        "# Calculate the percentage of negative log returns\n",
        "percentage_negative_returns = (log_return < 0).mean().mean() * 100\n",
        "\n",
        "print(f\"Percentage of negative log returns: {percentage_negative_returns:.2f}%\")"
      ]
    },
    {
      "cell_type": "code",
      "execution_count": null,
      "id": "76d7bb06",
      "metadata": {
        "id": "76d7bb06",
        "outputId": "db16ef3b-2630-433f-b701-ebd0f1c7d6e5"
      },
      "outputs": [
        {
          "name": "stdout",
          "output_type": "stream",
          "text": [
            "\n",
            "================================================================================\n",
            "PORTFOLIO WEIGHTS:\n",
            "--------------------------------------------------------------------------------\n",
            "    random_weights  rebalance_weights\n",
            "0         0.969467           0.162267\n",
            "1         0.727651           0.121792\n",
            "2         0.391792           0.065577\n",
            "3         0.359399           0.060155\n",
            "4         0.615967           0.103099\n",
            "5         0.983749           0.164657\n",
            "6         0.060114           0.010062\n",
            "7         0.350282           0.058629\n",
            "8         0.697348           0.116720\n",
            "9         0.689279           0.115370\n",
            "10        0.129479           0.021672\n",
            "--------------------------------------------------------------------------------\n",
            "\n",
            "================================================================================\n",
            "PORTFOLIO METRICS:\n",
            "--------------------------------------------------------------------------------\n",
            "   Expected Portfolio Returns  Expected Portfolio Volatility  Portfolio Sharpe Ratio\n",
            "0                    0.303376                       0.078608                3.859359\n",
            "--------------------------------------------------------------------------------\n"
          ]
        }
      ],
      "source": [
        "\n",
        "# Calculate the Expected Returns, annualize it by multiplying it by `252`.\n",
        "risk_free_rate = .01\n",
        "exp_ret = np.sum(((log_return.mean()-risk_free_rate) * rebalance_weights) * 252)\n",
        "\n",
        "# Calculate the Expected Volatility, annualize it by multiplying it by `252`.\n",
        "exp_vol = np.sqrt(\n",
        "np.dot(\n",
        "    rebalance_weights.T,\n",
        "    np.dot(\n",
        "        log_return.cov() * 252,\n",
        "        rebalance_weights\n",
        "    )\n",
        ")\n",
        ")\n",
        "\n",
        "# Calculate the Sharpe Ratio.\n",
        "sharpe_ratio = exp_ret / exp_vol\n",
        "\n",
        "# Put the weights into a data frame to see them better.\n",
        "weights_df = pd.DataFrame(data={\n",
        "'random_weights': random_weights,\n",
        "'rebalance_weights': rebalance_weights\n",
        "})\n",
        "print('')\n",
        "print('='*80)\n",
        "print('PORTFOLIO WEIGHTS:')\n",
        "print('-'*80)\n",
        "print(weights_df)\n",
        "print('-'*80)\n",
        "\n",
        "# Do the same with the other metrics.\n",
        "metrics_df = pd.DataFrame(data={\n",
        "    'Expected Portfolio Returns': exp_ret,\n",
        "    'Expected Portfolio Volatility': exp_vol,\n",
        "    'Portfolio Sharpe Ratio': sharpe_ratio\n",
        "}, index=[0])\n",
        "\n",
        "print('')\n",
        "print('='*80)\n",
        "print('PORTFOLIO METRICS:')\n",
        "print('-'*80)\n",
        "print(metrics_df)\n",
        "print('-'*80)"
      ]
    },
    {
      "cell_type": "code",
      "execution_count": null,
      "id": "00f1ff69",
      "metadata": {
        "id": "00f1ff69",
        "outputId": "76cd7b86-d83f-4776-8007-f42dfa8429c8"
      },
      "outputs": [
        {
          "name": "stdout",
          "output_type": "stream",
          "text": [
            "\n",
            "================================================================================\n",
            "SIMULATIONS RESULT:\n",
            "--------------------------------------------------------------------------------\n",
            "================================================================================\n",
            "PORTFOLIO WEIGHTS:\n",
            "--------------------------------------------------------------------------------\n",
            "0      [0.0918919289282305, 0.0805512602001684, 0.06796558842335781, 0.14813355100074269, 0.09183784811855765, 0.07064585627303377, 0.003819480025541663, 0.13017929275117268, 0.16581460724482935, 0.07437150207875824, 0.07478908495560714]\n",
            "1    [0.029018849256720287, 0.05865935398760163, 0.041007339339173186, 0.10271748271488208, 0.06207686210870877, 0.0927944808505549, 0.17336563482730946, 0.20739360760718917, 0.07733571318541398, 0.11782164271837482, 0.03780903340407175]\n",
            "2     [0.10587252256543288, 0.09201555577209798, 0.08853833955704861, 0.05760756520127283, 0.021094809610149277, 0.10429100055164979, 0.09896980558936067, 0.13984522542720093, 0.09544997558484104, 0.1626136042241218, 0.03370159591682422]\n",
            "3     [0.08344720403608406, 0.004328535619110992, 0.05681531421692042, 0.03207574367840188, 0.18333559554049395, 0.1840018880309469, 0.11051931362398015, 0.18431000137886386, 0.09422631054683119, 0.011196138294667042, 0.0557439550336994]\n",
            "4      [0.04707745708185947, 0.16041301466751048, 0.0942674867547084, 0.10185396517119198, 0.15617119320655112, 0.0705033229192185, 0.08735029498277178, 0.10630236698752235, 0.03982555202793227, 0.010357327792949646, 0.12587801840778418]\n",
            "Name: Portfolio Weights, dtype: object\n",
            "--------------------------------------------------------------------------------\n",
            "================================================================================\n",
            "PORTFOLIO METRICS:\n",
            "--------------------------------------------------------------------------------\n",
            "    Returns  Volatility  Sharpe Ratio\n",
            "0  0.325531    0.077654      4.192099\n",
            "1  0.462673    0.084594      5.469365\n",
            "2  0.424210    0.080435      5.273958\n",
            "3  0.303075    0.073035      4.149756\n",
            "4  0.233820    0.077814      3.004872\n",
            "--------------------------------------------------------------------------------\n"
          ]
        }
      ],
      "source": [
        "# Initialize the components, to run a Monte Carlo Simulation.\n",
        "\n",
        "# We will run 5000 iterations.\n",
        "num_of_portfolios = 20000\n",
        "\n",
        "# Prep an array to store the weights as they are generated, 5000 iterations for each of our 4 symbols.\n",
        "all_weights = np.zeros((num_of_portfolios, number_of_sectors))\n",
        "\n",
        "# Prep an array to store the returns as they are generated, 5000 possible return values.\n",
        "ret_arr = np.zeros(num_of_portfolios)\n",
        "\n",
        "# Prep an array to store the volatilities as they are generated, 5000 possible volatility values.\n",
        "vol_arr = np.zeros(num_of_portfolios)\n",
        "\n",
        "# Prep an array to store the sharpe ratios as they are generated, 5000 possible Sharpe Ratios.\n",
        "sharpe_arr = np.zeros(num_of_portfolios)\n",
        "\n",
        "# Start the simulations.\n",
        "for ind in range(num_of_portfolios):\n",
        "\n",
        "    # First, calculate the weights.\n",
        "    weights = np.array(np.random.random(number_of_sectors))\n",
        "    weights = weights / np.sum(weights)\n",
        "\n",
        "    # Add the weights, to the `weights_arrays`.\n",
        "    all_weights[ind, :] = weights\n",
        "\n",
        "    # Calculate the expected log returns, and add them to the `returns_array`.\n",
        "    ret_arr[ind] = np.sum(((log_return.mean()-risk_free_rate) * weights) * 252)\n",
        "\n",
        "    # Calculate the volatility, and add them to the `volatility_array`.\n",
        "    vol_arr[ind] = np.sqrt(\n",
        "        np.dot(weights.T, np.dot(log_return.cov() * 252, weights)))\n",
        "\n",
        "\n",
        "    # Calculate the Sharpe Ratio and Add it to the `sharpe_ratio_array`.\n",
        "    sharpe_arr[ind] = ret_arr[ind]/vol_arr[ind]\n",
        "\n",
        "# Let's create our \"Master Data Frame\", with the weights, the returns, the volatility, and the Sharpe Ratio\n",
        "simulations_data = [ret_arr, vol_arr, sharpe_arr, all_weights]\n",
        "\n",
        "# Create a DataFrame from it, then Transpose it so it looks like our original one.\n",
        "simulations_df = pd.DataFrame(data=simulations_data).T\n",
        "\n",
        "# Give the columns the Proper Names.\n",
        "simulations_df.columns = [\n",
        "    'Returns',\n",
        "    'Volatility',\n",
        "    'Sharpe Ratio',\n",
        "    'Portfolio Weights'\n",
        "]\n",
        "\n",
        "# Make sure the data types are correct, we don't want our floats to be strings.\n",
        "simulations_df = simulations_df.infer_objects()\n",
        "\n",
        "# Print out the results.\n",
        "print('')\n",
        "print('='*80)\n",
        "print('SIMULATIONS RESULT:')\n",
        "print('-'*80)\n",
        "\n",
        "# Print PORTFOLIO WEIGHTS\n",
        "print('='*80)\n",
        "print('PORTFOLIO WEIGHTS:')\n",
        "print('-'*80)\n",
        "print(simulations_df['Portfolio Weights'].head())\n",
        "print('-'*80)\n",
        "\n",
        "# Print PORTFOLIO METRICS\n",
        "print('='*80)\n",
        "print('PORTFOLIO METRICS:')\n",
        "print('-'*80)\n",
        "print(simulations_df[['Returns', 'Volatility', 'Sharpe Ratio']].head())\n",
        "print('-'*80)"
      ]
    },
    {
      "cell_type": "code",
      "execution_count": null,
      "id": "0407a3e0",
      "metadata": {
        "scrolled": true,
        "id": "0407a3e0",
        "outputId": "af039409-2708-44f1-9757-11429b74493e"
      },
      "outputs": [
        {
          "name": "stdout",
          "output_type": "stream",
          "text": [
            "\n",
            "================================================================================\n",
            "MAX SHARPE RATIO:\n",
            "--------------------------------------------------------------------------------\n",
            "Returns                                                                                                                                                                                                                                            0.619264\n",
            "Volatility                                                                                                                                                                                                                                         0.083392\n",
            "Sharpe Ratio                                                                                                                                                                                                                                       7.425931\n",
            "Portfolio Weights    [0.18101971080851087, 0.04580935876423305, 0.0104916310683585, 0.04366286931897253, 0.004320781789587477, 0.027819328912733463, 0.061914709094867924, 0.2273019249940768, 0.141356941273262, 0.20242586539289387, 0.05387687858250328]\n",
            "Name: 17176, dtype: object\n",
            "--------------------------------------------------------------------------------\n",
            "\n",
            "================================================================================\n",
            "MIN VOLATILITY:\n",
            "--------------------------------------------------------------------------------\n",
            "Returns                                                                                                                                                                                                                                                 0.116218\n",
            "Volatility                                                                                                                                                                                                                                              0.061047\n",
            "Sharpe Ratio                                                                                                                                                                                                                                            1.903756\n",
            "Portfolio Weights    [0.2682502700578438, 0.028797036512746954, 0.23496796349403187, 0.059655206715623264, 0.0070051815335909805, 0.07634672635986417, 0.04401849033494663, 0.03555173470019183, 0.014122261776817423, 0.033997574297303164, 0.1972875542170399]\n",
            "Name: 2162, dtype: object\n",
            "--------------------------------------------------------------------------------\n"
          ]
        }
      ],
      "source": [
        "# Return the Max Sharpe Ratio from the run.\n",
        "max_sharpe_ratio = simulations_df.loc[simulations_df['Sharpe Ratio'].idxmax()]\n",
        "\n",
        "# Return the Min Volatility from the run.\n",
        "min_volatility = simulations_df.loc[simulations_df['Volatility'].idxmin()]\n",
        "\n",
        "print('')\n",
        "print('='*80)\n",
        "print('MAX SHARPE RATIO:')\n",
        "print('-'*80)\n",
        "print(max_sharpe_ratio)\n",
        "print('-'*80)\n",
        "\n",
        "print('')\n",
        "print('='*80)\n",
        "print('MIN VOLATILITY:')\n",
        "print('-'*80)\n",
        "print(min_volatility)\n",
        "print('-'*80)\n"
      ]
    },
    {
      "cell_type": "markdown",
      "id": "d1f37cea",
      "metadata": {
        "id": "d1f37cea"
      },
      "source": [
        "# MAX SHARPE RATIO Portfolio:\n",
        "- Max Sharpe Ratio Portfolio:\n",
        "- Returns: The expected return of the portfolio is 61.93%.\n",
        "- Volatility: The volatility (risk) of the portfolio is 8.34%.\n",
        "\n",
        "### Sharpe Ratio: A Sharpe Ratio of 7.43 is quite high, indicating a good balance between return and risk.\n",
        "\n",
        "### Portfolio Weights:\n",
        "\n",
        "The portfolio is distributed across different assets, with the highest weight (22.73%) on the 8th asset.\n",
        "The weights suggest a diversified allocation, and the optimization process has determined the allocation that maximizes the Sharpe Ratio for the given assets.\n",
        "\n",
        "# Min Volatility Portfolio:\n",
        "- Returns: The expected return of the portfolio is 11.62%.\n",
        "- Volatility: The volatility (risk) of the portfolio is 6.10%.\n",
        "- Sharpe Ratio: The Sharpe Ratio is 1.90, which is lower than the max Sharpe Ratio portfolio, but still provides a measure of risk-adjusted return.\n",
        "\n",
        "### Portfolio Weights:\n",
        "\n",
        "The portfolio is again diversified, with the highest weight (26.83%) on the 1st asset and significant weights on the 3rd and 11th assets.\n",
        "The weights are determined to minimize the volatility of the portfolio, resulting in a more conservative allocation.\n",
        "\n",
        "In summary, the first portfolio aims to maximize the risk-adjusted return (Sharpe Ratio) and has a higher expected return but also higher volatility. The second portfolio aims to minimize volatility with a more conservative allocation but with a lower expected return. The choice between the two depends on the investor's risk tolerance and investment objectives.\n",
        "\n",
        "### Portfolio Weights:\n",
        "\n",
        "#### Max Sharpe Ratio Portfolio:\n",
        "\n",
        "#### Sector Weights:\n",
        "- Sector 1: 18.10%\n",
        "- Sector 2: 4.58%\n",
        "- Sector 3: 1.05%\n",
        "- Sector 4: 4.37%\n",
        "- Sector 5: 0.43%\n",
        "- Sector 6: 2.78%\n",
        "- Sector 7: 6.19%\n",
        "- Sector 8: 22.73%\n",
        "- Sector 9: 14.14%\n",
        "- Sector 10: 20.24%\n",
        "- Sector 11: 5.39%\n",
        "\n",
        "#### Min Volatility Portfolio:\n",
        "\n",
        "#### Sector Weights:\n",
        "- Sector 1: 26.83%\n",
        "- Sector 2: 2.88%\n",
        "- Sector 3: 23.50%\n",
        "- Sector 4: 5.97%\n",
        "- Sector 5: 0.70%\n",
        "- Sector 6: 7.63%\n",
        "- Sector 7: 4.40%\n",
        "- Sector 8: 3.56%\n",
        "- Sector 9: 1.41%\n",
        "- Sector 10: 3.40%\n",
        "- Sector 11: 19.73%\n",
        "\n",
        "These percentages represent the allocation of each portfolio to different sectors. It's a useful breakdown to understand the diversification within each portfolio and can be valuable for investors who want to ensure a balanced exposure to different sectors or industries."
      ]
    },
    {
      "cell_type": "code",
      "execution_count": null,
      "id": "2ccf90e2",
      "metadata": {
        "id": "2ccf90e2"
      },
      "outputs": [],
      "source": [
        "# DICTIONARIES WITH WEIGHTS\n",
        "\n",
        "maxsharpedict = { \"Communication Services\": 0.181, \"Consumer Discretionary\": 0.0458,\n",
        "                  \"Consumer Staples\": 0.0105, \"Energy\": 0.0437, \"Financials\": 0.0043,\n",
        "                  \"Health Care\": 0.0278, \"Industrials\": 0.0619, \"Information Technology\": 0.2273,\n",
        "                  \"Materials\": 0.1414, \"Real Estate\": 0.2024,\"Utilites\": 0.0539 }\n",
        "\n",
        "minvoldict = { \"Communication Services\": 0.2683, \"Consumer Discretionary\": 0.0288,\n",
        "               \"Consumer Staples\": 0.235, \"Energy\": 0.0597, \"Financials\": 0.007,\n",
        "               \"Health Care\": 0.0763, \"Industrials\": 0.044, \"Information Technology\": 0.0356,\n",
        "               \"Materials\": 0.0141, \"Real Estate\": 0.034, \"Utilites\": 0.1973 }"
      ]
    },
    {
      "cell_type": "code",
      "source": [
        "# MACHINE LEARNING COMPONENT\n",
        "\n",
        "'''\n",
        "import numpy as np\n",
        "from sklearn.ensemble import RandomForestRegressor\n",
        "from sklearn.model_selection import train_test_split\n",
        "\n",
        "print(\"Unique values in 'Portfolio Weights' column:\")\n",
        "print(simulations_df[\"Portfolio Weights\"].unique())\n",
        "\n",
        "simulations_df[\"Portfolio Weights\"] = simulations_df[\"Portfolio Weights\"].apply(lambda x: np.concatenate(x) if isinstance(x, list) else x)\n",
        "X = simulations_df[[\"Volatility\", \"Sharpe Ratio\"]]\n",
        "y = np.concatenate(simulations_df[\"Portfolio Weights\"].to_numpy())\n",
        "\n",
        "print(\"Shape of X:\", X.shape)\n",
        "print(\"Shape of y:\", y.shape)\n",
        "X_train, X_test, y_train, y_test = train_test_split(X, y, test_size=0.2, random_state=42)\n",
        "rf_model = RandomForestRegressor(n_estimators=100, random_state=42)\n",
        "rf_model.fit(X_train, y_train)\n",
        "y_pred = rf_model.predict(X_test)\n",
        "'''"
      ],
      "metadata": {
        "id": "tdz1r2jjMkQh"
      },
      "id": "tdz1r2jjMkQh",
      "execution_count": null,
      "outputs": []
    }
  ],
  "metadata": {
    "kernelspec": {
      "display_name": "Python 3 (ipykernel)",
      "language": "python",
      "name": "python3"
    },
    "language_info": {
      "codemirror_mode": {
        "name": "ipython",
        "version": 3
      },
      "file_extension": ".py",
      "mimetype": "text/x-python",
      "name": "python",
      "nbconvert_exporter": "python",
      "pygments_lexer": "ipython3",
      "version": "3.9.12"
    },
    "colab": {
      "provenance": []
    }
  },
  "nbformat": 4,
  "nbformat_minor": 5
}